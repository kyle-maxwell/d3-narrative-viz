{
 "cells": [
  {
   "cell_type": "code",
   "execution_count": 124,
   "id": "9da05b63",
   "metadata": {},
   "outputs": [],
   "source": [
    "import pandas as pd\n",
    "import os"
   ]
  },
  {
   "cell_type": "code",
   "execution_count": 125,
   "id": "d862a02e",
   "metadata": {},
   "outputs": [
    {
     "data": {
      "text/plain": [
       "['China-1950.csv',\n",
       " 'China-1960.csv',\n",
       " 'China-1970.csv',\n",
       " 'China-1980.csv',\n",
       " 'China-1990.csv',\n",
       " 'China-2000.csv',\n",
       " 'China-2010.csv',\n",
       " 'China-2020.csv',\n",
       " 'China-2030.csv',\n",
       " 'China-2040.csv',\n",
       " 'China-2050.csv']"
      ]
     },
     "execution_count": 125,
     "metadata": {},
     "output_type": "execute_result"
    }
   ],
   "source": [
    "folder = 'china'\n",
    "files = sorted(os.listdir(folder))\n",
    "files"
   ]
  },
  {
   "cell_type": "code",
   "execution_count": 126,
   "id": "d4b42bc8",
   "metadata": {},
   "outputs": [],
   "source": [
    "dfs = []\n",
    "for f in files:\n",
    "    df = pd.read_csv(f\"{folder}/{f}\")\n",
    "    df.insert(0, \"Year\", f.strip('.csv').split('-')[-1])\n",
    "    dfs.append(df)\n",
    "    \n",
    "cdf = pd.concat(dfs, ignore_index=True)"
   ]
  },
  {
   "cell_type": "code",
   "execution_count": 127,
   "id": "fc598729",
   "metadata": {},
   "outputs": [],
   "source": [
    "male = cdf[['Year','Age','M']]\n",
    "male.columns = ['year','age','pop']\n",
    "male.insert(2,'sex','M')"
   ]
  },
  {
   "cell_type": "code",
   "execution_count": 128,
   "id": "bda33ad0",
   "metadata": {},
   "outputs": [],
   "source": [
    "female = cdf[['Year','Age','F']]\n",
    "female.columns = ['year','age','pop']\n",
    "female.insert(2,'sex','F')"
   ]
  },
  {
   "cell_type": "code",
   "execution_count": 129,
   "id": "9beab38b",
   "metadata": {},
   "outputs": [],
   "source": [
    "cdf = pd.concat([male, female])"
   ]
  },
  {
   "cell_type": "code",
   "execution_count": 130,
   "id": "351d88e5",
   "metadata": {},
   "outputs": [],
   "source": [
    "cdf['age'] = cdf['age'].str.strip(\"+\").str.split('-').str[0]"
   ]
  },
  {
   "cell_type": "code",
   "execution_count": 132,
   "id": "7435a6aa",
   "metadata": {},
   "outputs": [],
   "source": [
    "cdf.to_csv(f\"{folder}_population.csv\", index=False)"
   ]
  },
  {
   "cell_type": "code",
   "execution_count": null,
   "id": "bc7002fe",
   "metadata": {},
   "outputs": [],
   "source": []
  },
  {
   "cell_type": "code",
   "execution_count": null,
   "id": "a8662c50",
   "metadata": {},
   "outputs": [],
   "source": []
  }
 ],
 "metadata": {
  "kernelspec": {
   "display_name": "Python 3 (ipykernel)",
   "language": "python",
   "name": "python3"
  },
  "language_info": {
   "codemirror_mode": {
    "name": "ipython",
    "version": 3
   },
   "file_extension": ".py",
   "mimetype": "text/x-python",
   "name": "python",
   "nbconvert_exporter": "python",
   "pygments_lexer": "ipython3",
   "version": "3.9.6"
  }
 },
 "nbformat": 4,
 "nbformat_minor": 5
}
